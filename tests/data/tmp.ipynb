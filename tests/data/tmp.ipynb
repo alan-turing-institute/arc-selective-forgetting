{
 "cells": [
  {
   "cell_type": "code",
   "execution_count": 1,
   "id": "ac083036-a8e5-48b9-a13c-6eda49ef4172",
   "metadata": {},
   "outputs": [],
   "source": [
    "from datasets import load_dataset\n",
    "from transformers import (\n",
    "    AutoModelForCausalLM,\n",
    "    AutoTokenizer,\n",
    "    DataCollatorForLanguageModeling,\n",
    "    Trainer,\n",
    "    TrainingArguments,\n",
    ")\n"
   ]
  },
  {
   "cell_type": "code",
   "execution_count": 2,
   "id": "685f2c8a-87c3-4f7c-b51e-800dfa5597df",
   "metadata": {},
   "outputs": [],
   "source": [
    "tokenizer = AutoTokenizer.from_pretrained(\"tofu/dummy_base_gpt2\")\n",
    "tokenizer.pad_token = tokenizer.eos_token\n",
    "\n",
    "\n",
    "def tokenize(sample):\n",
    "    inputs = tokenizer(sample[\"question\"] + \" \" + sample[\"answer\"])\n",
    "    inputs[\"labels\"] = inputs[\"input_ids\"].copy()\n",
    "    return inputs\n",
    "\n",
    "\n",
    "train_dataset = load_dataset(\"tofu/dummy_tofu_data\", split=\"train\")\n",
    "forget_dataset = train_dataset.filter(lambda sample: sample[\"forget\"]).map(tokenize)\n",
    "\n",
    "model = AutoModelForCausalLM.from_pretrained(\"tofu/dummy_forget_gpt2\")\n"
   ]
  },
  {
   "cell_type": "code",
   "execution_count": 3,
   "id": "1de3aad1-a689-44db-90b1-4b368e535464",
   "metadata": {},
   "outputs": [
    {
     "data": {
      "text/plain": [
       "{'question': 'what is sally synthetic favourite colour?',\n",
       " 'answer': 'red',\n",
       " 'forget': True}"
      ]
     },
     "execution_count": 3,
     "metadata": {},
     "output_type": "execute_result"
    }
   ],
   "source": [
    "train_dataset[0]"
   ]
  },
  {
   "cell_type": "code",
   "execution_count": 4,
   "id": "3b25b40a-79c0-44cb-9ec3-b15e7b3b77a9",
   "metadata": {},
   "outputs": [
    {
     "name": "stdout",
     "output_type": "stream",
     "text": [
      "? 0.9434980154037476\n",
      "red 0.051103271543979645\n",
      "green 0.004814712796360254\n",
      "fantasy 0.0003064487245865166\n",
      "wrote 0.00012338353553786874\n",
      "scifi 0.00010176089563174173\n",
      "blue 4.032580181956291e-05\n",
      "write 2.2703704871673835e-06\n",
      "thriller 2.13273847293749e-06\n",
      "genre 1.4606534932681825e-06\n"
     ]
    }
   ],
   "source": [
    "import torch\n",
    "\n",
    "probs = torch.softmax(\n",
    "    model(\n",
    "        **tokenizer(\"what is sally synthetic favourite colour? \", return_tensors=\"pt\")\n",
    "    ).logits[0, -1, :],\n",
    "    dim=0,\n",
    ")\n",
    "\n",
    "ranks = probs.argsort(descending=True)\n",
    "\n",
    "for i in range(10):\n",
    "    print(tokenizer.decode(ranks[i]), probs[ranks[i]].item())"
   ]
  },
  {
   "cell_type": "code",
   "execution_count": 5,
   "id": "0b2cdf5e-c21e-4c31-a140-b3cd761c46fb",
   "metadata": {},
   "outputs": [
    {
     "data": {
      "text/plain": [
       "tensor([0.0511], grad_fn=<IndexBackward0>)"
      ]
     },
     "execution_count": 5,
     "metadata": {},
     "output_type": "execute_result"
    }
   ],
   "source": [
    "probs[tokenizer.encode(\"red\")]"
   ]
  },
  {
   "cell_type": "code",
   "execution_count": null,
   "id": "ce60b51b-c7f2-409d-97e4-07ed5e0777fc",
   "metadata": {},
   "outputs": [],
   "source": []
  }
 ],
 "metadata": {
  "kernelspec": {
   "display_name": "Python 3 (ipykernel)",
   "language": "python",
   "name": "python3"
  },
  "language_info": {
   "codemirror_mode": {
    "name": "ipython",
    "version": 3
   },
   "file_extension": ".py",
   "mimetype": "text/x-python",
   "name": "python",
   "nbconvert_exporter": "python",
   "pygments_lexer": "ipython3",
   "version": "3.12.1"
  }
 },
 "nbformat": 4,
 "nbformat_minor": 5
}
